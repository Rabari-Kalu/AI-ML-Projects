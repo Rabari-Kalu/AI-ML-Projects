{
 "cells": [
  {
   "cell_type": "code",
   "execution_count": 1,
   "metadata": {
    "id": "l9LjhQ0oLInE"
   },
   "outputs": [],
   "source": [
    "# Loading Libraries\n",
    "import pandas as pd                    # data analysis\n",
    "import numpy as np                     # scientific calculations\n",
    "import seaborn as sns                  # Statistical process\n",
    "import matplotlib.pyplot as plt        # plotting\n",
    "import statsmodels.api as sm"
   ]
  },
  {
   "cell_type": "code",
   "execution_count": 2,
   "metadata": {
    "id": "_1DUW_GULYm2"
   },
   "outputs": [],
   "source": [
    "#from google.colab import drive\n",
    "#drive.mount('/content/drive')"
   ]
  },
  {
   "cell_type": "code",
   "execution_count": 3,
   "metadata": {
    "id": "A0fRV2RQLInM"
   },
   "outputs": [],
   "source": [
    "# Importing data\n",
    "pf_data = pd.read_csv(r'C:\\Users\\sandeep\\Desktop\\FTN\\ML-Statastic\\Data\\Student_Pass_Fail.csv')"
   ]
  },
  {
   "cell_type": "code",
   "execution_count": 4,
   "metadata": {
    "id": "WCtNwHTbLInN"
   },
   "outputs": [
    {
     "name": "stdout",
     "output_type": "stream",
     "text": [
      "     Self_Study_Daily  Tution_Monthly  Pass_Or_Fail\n",
      "0                   7              27             1\n",
      "1                   2              43             0\n",
      "2                   7              26             1\n",
      "3                   8              29             1\n",
      "4                   3              42             0\n",
      "..                ...             ...           ...\n",
      "995                 6              22             1\n",
      "996                 9              30             1\n",
      "997                 3              39             0\n",
      "998                 7              25             1\n",
      "999                 5              37             0\n",
      "\n",
      "[1000 rows x 3 columns]\n"
     ]
    }
   ],
   "source": [
    "# Understanding data\n",
    "print(pf_data)"
   ]
  },
  {
   "cell_type": "code",
   "execution_count": 5,
   "metadata": {
    "id": "2ewrPz_WLInP"
   },
   "outputs": [
    {
     "data": {
      "text/html": [
       "<div>\n",
       "<style scoped>\n",
       "    .dataframe tbody tr th:only-of-type {\n",
       "        vertical-align: middle;\n",
       "    }\n",
       "\n",
       "    .dataframe tbody tr th {\n",
       "        vertical-align: top;\n",
       "    }\n",
       "\n",
       "    .dataframe thead th {\n",
       "        text-align: right;\n",
       "    }\n",
       "</style>\n",
       "<table border=\"1\" class=\"dataframe\">\n",
       "  <thead>\n",
       "    <tr style=\"text-align: right;\">\n",
       "      <th></th>\n",
       "      <th>Self_Study_Daily</th>\n",
       "      <th>Tution_Monthly</th>\n",
       "      <th>Pass_Or_Fail</th>\n",
       "    </tr>\n",
       "  </thead>\n",
       "  <tbody>\n",
       "    <tr>\n",
       "      <th>0</th>\n",
       "      <td>7</td>\n",
       "      <td>27</td>\n",
       "      <td>1</td>\n",
       "    </tr>\n",
       "    <tr>\n",
       "      <th>1</th>\n",
       "      <td>2</td>\n",
       "      <td>43</td>\n",
       "      <td>0</td>\n",
       "    </tr>\n",
       "    <tr>\n",
       "      <th>2</th>\n",
       "      <td>7</td>\n",
       "      <td>26</td>\n",
       "      <td>1</td>\n",
       "    </tr>\n",
       "    <tr>\n",
       "      <th>3</th>\n",
       "      <td>8</td>\n",
       "      <td>29</td>\n",
       "      <td>1</td>\n",
       "    </tr>\n",
       "    <tr>\n",
       "      <th>4</th>\n",
       "      <td>3</td>\n",
       "      <td>42</td>\n",
       "      <td>0</td>\n",
       "    </tr>\n",
       "  </tbody>\n",
       "</table>\n",
       "</div>"
      ],
      "text/plain": [
       "   Self_Study_Daily  Tution_Monthly  Pass_Or_Fail\n",
       "0                 7              27             1\n",
       "1                 2              43             0\n",
       "2                 7              26             1\n",
       "3                 8              29             1\n",
       "4                 3              42             0"
      ]
     },
     "execution_count": 5,
     "metadata": {},
     "output_type": "execute_result"
    }
   ],
   "source": [
    "# Understanding data\n",
    "pf_data.head()"
   ]
  },
  {
   "cell_type": "code",
   "execution_count": 6,
   "metadata": {
    "id": "tMoMhpc0LInQ"
   },
   "outputs": [
    {
     "name": "stdout",
     "output_type": "stream",
     "text": [
      "Count of observations by dependent variable:\n",
      "Pass_Or_Fail\n",
      "0    501\n",
      "1    499\n",
      "Name: count, dtype: int64\n"
     ]
    }
   ],
   "source": [
    "# Count the occurrences of each unique value in the dependent variable\n",
    "value_counts = pf_data['Pass_Or_Fail'].value_counts()\n",
    "\n",
    "# Print the counts\n",
    "print(\"Count of observations by dependent variable:\")\n",
    "print(value_counts)"
   ]
  },
  {
   "cell_type": "code",
   "execution_count": 13,
   "metadata": {
    "id": "2d0QyWTyLInQ"
   },
   "outputs": [
    {
     "name": "stdout",
     "output_type": "stream",
     "text": [
      "Self_Study_Daily    0\n",
      "Tution_Monthly      0\n",
      "Pass_Or_Fail        0\n",
      "dtype: int64\n"
     ]
    }
   ],
   "source": [
    "# Check for missing values and removing it\n",
    "print(pf_data.isnull().sum())\n",
    "\n",
    "pf_data.dropna(inplace=True)"
   ]
  },
  {
   "cell_type": "code",
   "execution_count": 15,
   "metadata": {
    "id": "U4Mc3WBILInR"
   },
   "outputs": [],
   "source": [
    "# Encoding categorical variables\n",
    "data = pd.get_dummies(pf_data, drop_first=True,dtype=float)"
   ]
  },
  {
   "cell_type": "code",
   "execution_count": 17,
   "metadata": {
    "id": "61RhyfYaLInR"
   },
   "outputs": [],
   "source": [
    "# Defining Independent and dependent variables\n",
    "x = pf_data.drop('Pass_Or_Fail',axis = 1)\n",
    "y = pf_data.Pass_Or_Fail"
   ]
  },
  {
   "cell_type": "code",
   "execution_count": 19,
   "metadata": {
    "id": "ZBinF_keLInS"
   },
   "outputs": [],
   "source": [
    "# Splitting data into train and test\n",
    "from sklearn.model_selection import train_test_split\n",
    "x_train, x_test, y_train, y_test = train_test_split(x, y, test_size=0.3,random_state=4)"
   ]
  },
  {
   "cell_type": "code",
   "execution_count": 20,
   "metadata": {
    "id": "Tcgm_aHALInT"
   },
   "outputs": [
    {
     "name": "stdout",
     "output_type": "stream",
     "text": [
      "Optimization terminated successfully.\n",
      "         Current function value: 0.102716\n",
      "         Iterations 11\n",
      "                           Logit Regression Results                           \n",
      "==============================================================================\n",
      "Dep. Variable:           Pass_Or_Fail   No. Observations:                  700\n",
      "Model:                          Logit   Df Residuals:                      697\n",
      "Method:                           MLE   Df Model:                            2\n",
      "Date:                Sun, 09 Feb 2025   Pseudo R-squ.:                  0.8518\n",
      "Time:                        10:44:42   Log-Likelihood:                -71.901\n",
      "converged:                       True   LL-Null:                       -485.20\n",
      "Covariance Type:            nonrobust   LLR p-value:                3.210e-180\n",
      "====================================================================================\n",
      "                       coef    std err          z      P>|z|      [0.025      0.975]\n",
      "------------------------------------------------------------------------------------\n",
      "const                4.6803      2.474      1.892      0.059      -0.168       9.529\n",
      "Self_Study_Daily     2.6325      0.335      7.859      0.000       1.976       3.289\n",
      "Tution_Monthly      -0.7794      0.113     -6.902      0.000      -1.001      -0.558\n",
      "====================================================================================\n",
      "\n",
      "Possibly complete quasi-separation: A fraction 0.33 of observations can be\n",
      "perfectly predicted. This might indicate that there is complete\n",
      "quasi-separation. In this case some parameters will not be identified.\n"
     ]
    }
   ],
   "source": [
    "# Using statsmodels for detailed model summary\n",
    "\n",
    "x_train_sm = sm.add_constant(x_train)\n",
    "logit_model = sm.Logit(y_train, x_train_sm)\n",
    "result = logit_model.fit()\n",
    "\n",
    "# Summary of the logistic regression model\n",
    "print(result.summary())"
   ]
  },
  {
   "cell_type": "markdown",
   "metadata": {
    "id": "_7m9jh2kLInU"
   },
   "source": [
    "Both predictors are statistically significant, showing that self-study positively contributes to passing while high tuition costs are associated with a lower likelihood of passing.\n",
    "\n",
    "The logistic regression coefficients represent the change in the log-odds of passing for a one-unit change in the predictor. To interpret in terms of probability, these would need to be exponentiated.\n",
    "\n",
    "Odds Ratio for Self_Study_Daily:\n",
    "𝑒^2.6325 ≈ 13.91\n",
    "Students who study one hour more daily are 13.91 times more likely to pass.\n",
    "\n",
    "Odds Ratio for Tution_Monthly:\n",
    "𝑒^−0.7794 ≈ 0.458\n",
    "An increase in tuition fees by one unit reduces the odds of passing by about 54.2%."
   ]
  },
  {
   "cell_type": "code",
   "execution_count": 24,
   "metadata": {
    "id": "AvDvQH1xLInY"
   },
   "outputs": [
    {
     "data": {
      "text/plain": [
       "698    9.804718e-01\n",
       "577    9.449318e-01\n",
       "763    9.583830e-01\n",
       "790    5.528455e-07\n",
       "520    9.739660e-01\n",
       "           ...     \n",
       "53     9.583830e-01\n",
       "282    9.739660e-01\n",
       "656    2.627915e-06\n",
       "995    9.653695e-01\n",
       "50     1.823133e-08\n",
       "Length: 300, dtype: float64"
      ]
     },
     "execution_count": 24,
     "metadata": {},
     "output_type": "execute_result"
    }
   ],
   "source": [
    "y_pred = result.predict(sm.add_constant(x_test))\n",
    "\n",
    "y_pred"
   ]
  },
  {
   "cell_type": "code",
   "execution_count": null,
   "metadata": {
    "id": "3puttnQ5LInZ"
   },
   "outputs": [],
   "source": [
    "y_pred_binary = (y_pred >= 0.5).astype(int)\n",
    "y_pred_binary"
   ]
  },
  {
   "cell_type": "code",
   "execution_count": null,
   "metadata": {
    "id": "4nyKjxwfLInZ"
   },
   "outputs": [],
   "source": [
    "#  Confusion Matrix\n",
    "from sklearn.metrics import confusion_matrix\n",
    "confusion_matrix(y_test,y_pred_binary)"
   ]
  },
  {
   "cell_type": "markdown",
   "metadata": {
    "id": "q5evuAbsLIna"
   },
   "source": [
    "         Predicted\n",
    "          0    1\n",
    "Actual 0  TN   FP\n",
    "       1  FN   TP\n",
    "TN (True Negative): The number of true negative predictions (actual class 0, predicted class 0)\n",
    "FP (False Positive): The number of false positive predictions (actual class 0, predicted class 1)\n",
    "FN (False Negative): The number of false negative predictions (actual class 1, predicted class 0)\n",
    "TP (True Positive): The number of true positive predictions (actual class 1, predicted class 1)"
   ]
  },
  {
   "cell_type": "code",
   "execution_count": null,
   "metadata": {
    "id": "4sgYWBNwLInb"
   },
   "outputs": [],
   "source": [
    "# Accuracy Score\n",
    "from sklearn.metrics import accuracy_score\n",
    "accuracy_score(y_test,y_pred_binary)"
   ]
  },
  {
   "cell_type": "code",
   "execution_count": null,
   "metadata": {
    "id": "GTYkIIgiLInb"
   },
   "outputs": [],
   "source": [
    "# ROC Curve and AUC\n",
    "from sklearn.metrics import roc_curve, roc_auc_score\n",
    "#y_prob = logistic_regression.predict_proba(x_test)[:, 1]\n",
    "fpr, tpr, thresholds = roc_curve(y_test, y_pred)\n",
    "auc = roc_auc_score(y_test, y_pred)\n",
    "print(f'AUC: {auc:.2f}')\n",
    "\n",
    "plt.figure(figsize=(8, 6))\n",
    "plt.plot(fpr, tpr, label=f'ROC Curve (AUC = {auc:.2f})')\n",
    "plt.plot([0, 1], [0, 1], 'k--')\n",
    "plt.xlabel('False Positive Rate')\n",
    "plt.ylabel('True Positive Rate')\n",
    "plt.title('ROC Curve')\n",
    "plt.legend(loc='lower right')\n",
    "plt.show()"
   ]
  },
  {
   "cell_type": "markdown",
   "metadata": {
    "id": "79-oEj0sLInc"
   },
   "source": [
    "ROC Curve (Receiver Operating Characteristic Curve): This is a plot of the true positive rate (TPR) against the false positive rate (FPR) at various threshold settings. The ROC curve illustrates the diagnostic ability of a binary classifier system as its discrimination threshold is varied.\n",
    "\n",
    "AUC (Area Under the Curve): This metric summarizes the ROC curve into a single value representing the likelihood that the model will rank a randomly chosen positive instance higher than a randomly chosen negative one.\n",
    "\n",
    "AUC = 0.5: No discrimination (random guessing)\n",
    "0.5 < AUC < 0.7: Poor model\n",
    "0.7 ≤ AUC < 0.8: Fair model\n",
    "0.8 ≤ AUC < 0.9: Good model\n",
    "0.9 ≤ AUC < 1: Excellent model"
   ]
  },
  {
   "cell_type": "code",
   "execution_count": null,
   "metadata": {
    "id": "vdeh24kvLInd"
   },
   "outputs": [],
   "source": [
    "# Prediction on new data\n",
    "\n",
    "New_students={'Self_Study_Daily':[8,5,10],'Tution_Monthly':[20,30,60]}\n",
    "df2 = pd.DataFrame(New_students,columns= ['Self_Study_Daily', 'Tution_Monthly'])\n",
    "\n",
    "# Add constant to the new data (df2)\n",
    "df2_sm = sm.add_constant(df2)\n",
    "\n",
    "# Make predictions on the new data\n",
    "y_pred_new = result.predict(df2_sm)\n",
    "\n",
    "# Display the predictions\n",
    "print(y_pred_new)\n",
    "\n",
    "y_pred_binary_new = (y_pred_new >= 0.5).astype(int)\n",
    "y_pred_binary_new"
   ]
  },
  {
   "cell_type": "code",
   "execution_count": null,
   "metadata": {
    "id": "I3BApxLFLIne"
   },
   "outputs": [],
   "source": [
    "# Checking Assumptions: Linearity\n",
    "# Create a copy of the training data\n",
    "x_train_trans = x_train.copy()\n",
    "\n",
    "# Add log-transformed terms for continuous predictors\n",
    "continuous_vars = ['Self_Study_Daily', 'Tution_Monthly']  # Replace with your actual column names\n",
    "for var in continuous_vars:\n",
    "    x_train_trans[f'log_{var}'] = np.log(x_train[var] + 1)  # Add 1 to avoid log(0)\n",
    "    x_train_trans[f'interaction_{var}'] = x_train[var] * x_train_trans[f'log_{var}']\n",
    "\n",
    "# Add constant column\n",
    "x_train_trans = sm.add_constant(x_train_trans)\n",
    "\n",
    "logit_model_interaction = sm.Logit(y_train, x_train_trans)\n",
    "result_interaction = logit_model_interaction.fit()\n",
    "\n",
    "# Print summary to check the significance of interaction terms\n",
    "print(result_interaction.summary())"
   ]
  },
  {
   "cell_type": "markdown",
   "metadata": {
    "id": "NVINCEKcLIne"
   },
   "source": [
    "If the interaction term is significant, the relationship may not be linear, and you might need a transformation or nonlinear model."
   ]
  },
  {
   "cell_type": "code",
   "execution_count": null,
   "metadata": {
    "id": "aJ6v7AIULInf"
   },
   "outputs": [],
   "source": [
    "# Checking Assumption: Multicollinearity\n",
    "\n",
    "from statsmodels.stats.outliers_influence import variance_inflation_factor\n",
    "\n",
    "# Calculate VIF for each variable in x_train_sm\n",
    "vif_data = pd.DataFrame()\n",
    "vif_data[\"Variable\"] = x_train_sm.columns\n",
    "vif_data[\"VIF\"] = [variance_inflation_factor(x_train_sm.values, i) for i in range(x_train_sm.shape[1])]\n",
    "\n",
    "# Print the VIF results\n",
    "print(vif_data)"
   ]
  },
  {
   "cell_type": "markdown",
   "metadata": {
    "id": "a2if7VsMLInf"
   },
   "source": [
    "Rule of Thumb: VIF > 10 indicates multicollinearity that may require attention."
   ]
  },
  {
   "cell_type": "code",
   "execution_count": null,
   "metadata": {
    "id": "qh1TzqY1LInf"
   },
   "outputs": [],
   "source": [
    "# Check class distribution\n",
    "print(pf_data['Pass_Or_Fail'].value_counts(normalize=True))"
   ]
  },
  {
   "cell_type": "markdown",
   "metadata": {
    "id": "PT99jPqILIng"
   },
   "source": [
    "If the classes are imbalanced, consider resampling techniques such as oversampling the minority class or using weighted models."
   ]
  }
 ],
 "metadata": {
  "colab": {
   "provenance": []
  },
  "kernelspec": {
   "display_name": "Python 3 (ipykernel)",
   "language": "python",
   "name": "python3"
  },
  "language_info": {
   "codemirror_mode": {
    "name": "ipython",
    "version": 3
   },
   "file_extension": ".py",
   "mimetype": "text/x-python",
   "name": "python",
   "nbconvert_exporter": "python",
   "pygments_lexer": "ipython3",
   "version": "3.12.4"
  }
 },
 "nbformat": 4,
 "nbformat_minor": 4
}
